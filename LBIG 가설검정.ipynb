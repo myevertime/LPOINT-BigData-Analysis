{
 "cells": [
  {
   "cell_type": "code",
   "execution_count": 1,
   "metadata": {},
   "outputs": [],
   "source": [
    "import pandas as pd"
   ]
  },
  {
   "cell_type": "code",
   "execution_count": 2,
   "metadata": {},
   "outputs": [],
   "source": [
    "data1 = pd.read_csv(\"Lpoint/01Product.csv\", usecols = [0,1,2,3,4])\n",
    "data2 = pd.read_csv(\"Lpoint/02Search1.csv\")\n",
    "data4 = pd.read_csv(\"Lpoint/04Custom.csv\" , usecols= [0,1])\n",
    "data5 = pd.read_csv(\"Lpoint/05Session.csv\", usecols = [0,1,2,3,4,5])\n",
    "data6 = pd.read_csv(\"Lpoint/06Master.csv\")"
   ]
  },
  {
   "cell_type": "code",
   "execution_count": 3,
   "metadata": {},
   "outputs": [],
   "source": [
    "data1 = pd.DataFrame(data1)\n",
    "data2 = pd.DataFrame(data2)\n",
    "data5 = pd.DataFrame(data5)\n",
    "data6 = pd.DataFrame(data6)"
   ]
  },
  {
   "cell_type": "code",
   "execution_count": 5,
   "metadata": {},
   "outputs": [],
   "source": [
    "data = data1.merge(data2, how = 'inner')\n",
    "data = data.merge(data4, how = 'inner')\n",
    "data = data.merge(data5, how = 'inner')\n",
    "data = data.merge(data6, how = 'inner')"
   ]
  },
  {
   "cell_type": "code",
   "execution_count": 6,
   "metadata": {},
   "outputs": [],
   "source": [
    "import numpy as np\n",
    "data= data.fillna(0)"
   ]
  },
  {
   "cell_type": "code",
   "execution_count": 7,
   "metadata": {},
   "outputs": [
    {
     "data": {
      "text/html": [
       "<div>\n",
       "<table border=\"1\" class=\"dataframe\">\n",
       "  <thead>\n",
       "    <tr style=\"text-align: right;\">\n",
       "      <th></th>\n",
       "      <th>CLNT_ID</th>\n",
       "      <th>SESS_ID</th>\n",
       "      <th>HITS_SEQ</th>\n",
       "      <th>PD_C</th>\n",
       "      <th>PD_ADD_NM</th>\n",
       "      <th>KWD_NM</th>\n",
       "      <th>SEARCH_CNT</th>\n",
       "      <th>CLNT_GENDER</th>\n",
       "      <th>SESS_SEQ</th>\n",
       "      <th>SESS_DT</th>\n",
       "      <th>TOT_PAG_VIEW_CT</th>\n",
       "      <th>TOT_SESS_HR_V</th>\n",
       "      <th>PD_NM</th>\n",
       "      <th>CLAC1_NM</th>\n",
       "      <th>CLAC2_NM</th>\n",
       "      <th>CLAC3_NM</th>\n",
       "    </tr>\n",
       "  </thead>\n",
       "  <tbody>\n",
       "    <tr>\n",
       "      <th>0</th>\n",
       "      <td>4147643</td>\n",
       "      <td>4050743</td>\n",
       "      <td>66</td>\n",
       "      <td>149995</td>\n",
       "      <td>사이즈:옵션04.AN868_04 / 1개</td>\n",
       "      <td>선글라스</td>\n",
       "      <td>1</td>\n",
       "      <td>F</td>\n",
       "      <td>18</td>\n",
       "      <td>20180724</td>\n",
       "      <td>73.0</td>\n",
       "      <td>3,850</td>\n",
       "      <td>[ANGLOMANIA][5종택1] 명품 선글라스 5 - 옵션03.AN868_03</td>\n",
       "      <td>패션잡화</td>\n",
       "      <td>안경/선글라스</td>\n",
       "      <td>여성선글라스</td>\n",
       "    </tr>\n",
       "    <tr>\n",
       "      <th>1</th>\n",
       "      <td>4147643</td>\n",
       "      <td>4050743</td>\n",
       "      <td>66</td>\n",
       "      <td>149995</td>\n",
       "      <td>사이즈:옵션04.AN868_04 / 1개</td>\n",
       "      <td>앵글로매니아</td>\n",
       "      <td>1</td>\n",
       "      <td>F</td>\n",
       "      <td>18</td>\n",
       "      <td>20180724</td>\n",
       "      <td>73.0</td>\n",
       "      <td>3,850</td>\n",
       "      <td>[ANGLOMANIA][5종택1] 명품 선글라스 5 - 옵션03.AN868_03</td>\n",
       "      <td>패션잡화</td>\n",
       "      <td>안경/선글라스</td>\n",
       "      <td>여성선글라스</td>\n",
       "    </tr>\n",
       "    <tr>\n",
       "      <th>2</th>\n",
       "      <td>1126667</td>\n",
       "      <td>4302893</td>\n",
       "      <td>193</td>\n",
       "      <td>149995</td>\n",
       "      <td>사이즈:옵션01.AN868_01 / 1개</td>\n",
       "      <td>비디보브</td>\n",
       "      <td>1</td>\n",
       "      <td>F</td>\n",
       "      <td>226</td>\n",
       "      <td>20180719</td>\n",
       "      <td>426.0</td>\n",
       "      <td>2,672</td>\n",
       "      <td>[ANGLOMANIA][5종택1] 명품 선글라스 5 - 옵션03.AN868_03</td>\n",
       "      <td>패션잡화</td>\n",
       "      <td>안경/선글라스</td>\n",
       "      <td>여성선글라스</td>\n",
       "    </tr>\n",
       "    <tr>\n",
       "      <th>3</th>\n",
       "      <td>1126667</td>\n",
       "      <td>4302893</td>\n",
       "      <td>193</td>\n",
       "      <td>149995</td>\n",
       "      <td>사이즈:옵션01.AN868_01 / 1개</td>\n",
       "      <td>발레스커트</td>\n",
       "      <td>7</td>\n",
       "      <td>F</td>\n",
       "      <td>226</td>\n",
       "      <td>20180719</td>\n",
       "      <td>426.0</td>\n",
       "      <td>2,672</td>\n",
       "      <td>[ANGLOMANIA][5종택1] 명품 선글라스 5 - 옵션03.AN868_03</td>\n",
       "      <td>패션잡화</td>\n",
       "      <td>안경/선글라스</td>\n",
       "      <td>여성선글라스</td>\n",
       "    </tr>\n",
       "    <tr>\n",
       "      <th>4</th>\n",
       "      <td>1126667</td>\n",
       "      <td>4302893</td>\n",
       "      <td>193</td>\n",
       "      <td>149995</td>\n",
       "      <td>사이즈:옵션01.AN868_01 / 1개</td>\n",
       "      <td>포베네</td>\n",
       "      <td>7</td>\n",
       "      <td>F</td>\n",
       "      <td>226</td>\n",
       "      <td>20180719</td>\n",
       "      <td>426.0</td>\n",
       "      <td>2,672</td>\n",
       "      <td>[ANGLOMANIA][5종택1] 명품 선글라스 5 - 옵션03.AN868_03</td>\n",
       "      <td>패션잡화</td>\n",
       "      <td>안경/선글라스</td>\n",
       "      <td>여성선글라스</td>\n",
       "    </tr>\n",
       "  </tbody>\n",
       "</table>\n",
       "</div>"
      ],
      "text/plain": [
       "   CLNT_ID  SESS_ID  HITS_SEQ    PD_C               PD_ADD_NM  KWD_NM  \\\n",
       "0  4147643  4050743        66  149995  사이즈:옵션04.AN868_04 / 1개    선글라스   \n",
       "1  4147643  4050743        66  149995  사이즈:옵션04.AN868_04 / 1개  앵글로매니아   \n",
       "2  1126667  4302893       193  149995  사이즈:옵션01.AN868_01 / 1개    비디보브   \n",
       "3  1126667  4302893       193  149995  사이즈:옵션01.AN868_01 / 1개   발레스커트   \n",
       "4  1126667  4302893       193  149995  사이즈:옵션01.AN868_01 / 1개     포베네   \n",
       "\n",
       "   SEARCH_CNT CLNT_GENDER  SESS_SEQ   SESS_DT  TOT_PAG_VIEW_CT TOT_SESS_HR_V  \\\n",
       "0           1           F        18  20180724             73.0         3,850   \n",
       "1           1           F        18  20180724             73.0         3,850   \n",
       "2           1           F       226  20180719            426.0         2,672   \n",
       "3           7           F       226  20180719            426.0         2,672   \n",
       "4           7           F       226  20180719            426.0         2,672   \n",
       "\n",
       "                                          PD_NM CLAC1_NM CLAC2_NM CLAC3_NM  \n",
       "0  [ANGLOMANIA][5종택1] 명품 선글라스 5 - 옵션03.AN868_03     패션잡화  안경/선글라스   여성선글라스  \n",
       "1  [ANGLOMANIA][5종택1] 명품 선글라스 5 - 옵션03.AN868_03     패션잡화  안경/선글라스   여성선글라스  \n",
       "2  [ANGLOMANIA][5종택1] 명품 선글라스 5 - 옵션03.AN868_03     패션잡화  안경/선글라스   여성선글라스  \n",
       "3  [ANGLOMANIA][5종택1] 명품 선글라스 5 - 옵션03.AN868_03     패션잡화  안경/선글라스   여성선글라스  \n",
       "4  [ANGLOMANIA][5종택1] 명품 선글라스 5 - 옵션03.AN868_03     패션잡화  안경/선글라스   여성선글라스  "
      ]
     },
     "execution_count": 7,
     "metadata": {},
     "output_type": "execute_result"
    }
   ],
   "source": [
    "data.head()"
   ]
  },
  {
   "cell_type": "code",
   "execution_count": 8,
   "metadata": {},
   "outputs": [],
   "source": [
    "data['search_count'] = data.apply(lambda row: row.SEARCH_CNT*500 , axis=1)"
   ]
  },
  {
   "cell_type": "code",
   "execution_count": 9,
   "metadata": {},
   "outputs": [],
   "source": [
    "data['sess_sq'] = data.apply(lambda row: row.SESS_SEQ*5 , axis=1)"
   ]
  },
  {
   "cell_type": "code",
   "execution_count": 10,
   "metadata": {},
   "outputs": [],
   "source": [
    "data['tot_page'] = data.apply(lambda row: row.TOT_PAG_VIEW_CT*10 , axis=1)"
   ]
  },
  {
   "cell_type": "code",
   "execution_count": 18,
   "metadata": {},
   "outputs": [
    {
    }
   ],
   "source": [
    "data.drop(['SEARCH_CNT', 'SESS_SEQ','TOT_PAG_VIEW_CT'], axis=1)"
   ]
  },
  {
   "cell_type": "code",
   "execution_count": 12,
   "metadata": {},
   "outputs": [],
   "source": [
    "data[\"CLNT_GENDER\"].replace({\"F\":2,\"M\":1}, inplace = True)"
   ]
  },
  {
   "cell_type": "code",
   "execution_count": 13,
   "metadata": {},
   "outputs": [],
   "source": [
    "data['TOT_SESS_HR_V'] = data['TOT_SESS_HR_V'].str.replace(',', '')\n",
    "data['TOT_SESS_HR_V'] = pd.to_numeric(data['TOT_SESS_HR_V'])"
   ]
  },
  {
   "cell_type": "code",
   "execution_count": 14,
   "metadata": {},
   "outputs": [],
   "source": [
    "data['result']=data.apply(lambda row: row.search_count + row.tot_page + row.sess_sq , axis=1)"
   ]
  },
  {
   "cell_type": "code",
   "execution_count": 15,
   "metadata": {},
   "outputs": [],
   "source": [
    "data= data.drop(['SEARCH_CNT', 'SESS_SEQ','TOT_PAG_VIEW_CT'], axis=1)"
   ]
  },
  {
   "cell_type": "code",
   "execution_count": 16,
   "metadata": {},
   "outputs": [],
   "source": [
    "data= data.sort_values(by=['CLNT_GENDER','result'], ascending=False)"
   ]
  },
  {
   "cell_type": "code",
   "execution_count": 20,
   "metadata": {},
   "outputs": [
    {
     "data": {
      "text/html": [
       "<div>\n",
       "<table border=\"1\" class=\"dataframe\">\n",
       "  <thead>\n",
       "    <tr style=\"text-align: right;\">\n",
       "      <th></th>\n",
       "      <th>CLNT_ID</th>\n",
       "      <th>SESS_ID</th>\n",
       "      <th>HITS_SEQ</th>\n",
       "      <th>PD_C</th>\n",
       "      <th>KWD_NM</th>\n",
       "      <th>CLNT_GENDER</th>\n",
       "      <th>SESS_DT</th>\n",
       "      <th>TOT_SESS_HR_V</th>\n",
       "      <th>PD_NM</th>\n",
       "      <th>CLAC3_NM</th>\n",
       "      <th>search_count</th>\n",
       "      <th>sess_sq</th>\n",
       "      <th>tot_page</th>\n",
       "      <th>result</th>\n",
       "    </tr>\n",
       "  </thead>\n",
       "  <tbody>\n",
       "    <tr>\n",
       "      <th>3429017</th>\n",
       "      <td>5741873</td>\n",
       "      <td>4169868</td>\n",
       "      <td>152</td>\n",
       "      <td>113362</td>\n",
       "      <td>에이치커넥트여성</td>\n",
       "      <td>2</td>\n",
       "      <td>20180722</td>\n",
       "      <td>2332</td>\n",
       "      <td>여성 2칼라 끈리본 롱기장티셔츠 (30070-121-407-10) - 206(블루)...</td>\n",
       "      <td>여성원피스</td>\n",
       "      <td>23500</td>\n",
       "      <td>13090</td>\n",
       "      <td>4990.0</td>\n",
       "      <td>41580.0</td>\n",
       "    </tr>\n",
       "    <tr>\n",
       "      <th>1890750</th>\n",
       "      <td>6490905</td>\n",
       "      <td>3963667</td>\n",
       "      <td>74</td>\n",
       "      <td>665058</td>\n",
       "      <td>티렌</td>\n",
       "      <td>2</td>\n",
       "      <td>20180725</td>\n",
       "      <td>1139</td>\n",
       "      <td>기본폴라티셔츠(T171YSK901) - GN(그린) / FREE</td>\n",
       "      <td>여성스웨터/풀오버</td>\n",
       "      <td>8500</td>\n",
       "      <td>29900</td>\n",
       "      <td>2800.0</td>\n",
       "      <td>41200.0</td>\n",
       "    </tr>\n",
       "    <tr>\n",
       "      <th>1437292</th>\n",
       "      <td>519938</td>\n",
       "      <td>2844061</td>\n",
       "      <td>390</td>\n",
       "      <td>583277</td>\n",
       "      <td>오가닉맘 남아팬티</td>\n",
       "      <td>2</td>\n",
       "      <td>20180813</td>\n",
       "      <td>851</td>\n",
       "      <td>아룡남아삼각팬티  MBS3UP04 - 80</td>\n",
       "      <td>유아동팬티</td>\n",
       "      <td>28000</td>\n",
       "      <td>7020</td>\n",
       "      <td>4000.0</td>\n",
       "      <td>39020.0</td>\n",
       "    </tr>\n",
       "    <tr>\n",
       "      <th>3514204</th>\n",
       "      <td>519938</td>\n",
       "      <td>2844061</td>\n",
       "      <td>390</td>\n",
       "      <td>732340</td>\n",
       "      <td>오가닉맘 남아팬티</td>\n",
       "      <td>2</td>\n",
       "      <td>20180813</td>\n",
       "      <td>851</td>\n",
       "      <td>메란스타남아삼각팬티(MCS3UP07) - 60</td>\n",
       "      <td>유아동팬티</td>\n",
       "      <td>28000</td>\n",
       "      <td>7020</td>\n",
       "      <td>4000.0</td>\n",
       "      <td>39020.0</td>\n",
       "    </tr>\n",
       "    <tr>\n",
       "      <th>3966143</th>\n",
       "      <td>519938</td>\n",
       "      <td>2844061</td>\n",
       "      <td>390</td>\n",
       "      <td>534472</td>\n",
       "      <td>오가닉맘 남아팬티</td>\n",
       "      <td>2</td>\n",
       "      <td>20180813</td>\n",
       "      <td>851</td>\n",
       "      <td>람보르남아아동삼각팬티(MDS3UP22) - [1049478338]화이트/70</td>\n",
       "      <td>유아동내의</td>\n",
       "      <td>28000</td>\n",
       "      <td>7020</td>\n",
       "      <td>4000.0</td>\n",
       "      <td>39020.0</td>\n",
       "    </tr>\n",
       "  </tbody>\n",
       "</table>\n",
       "</div>"
      ],
      "text/plain": [
       "         CLNT_ID  SESS_ID  HITS_SEQ    PD_C     KWD_NM  CLNT_GENDER   SESS_DT  \\\n",
       "3429017  5741873  4169868       152  113362   에이치커넥트여성            2  20180722   \n",
       "1890750  6490905  3963667        74  665058         티렌            2  20180725   \n",
       "1437292   519938  2844061       390  583277  오가닉맘 남아팬티            2  20180813   \n",
       "3514204   519938  2844061       390  732340  오가닉맘 남아팬티            2  20180813   \n",
       "3966143   519938  2844061       390  534472  오가닉맘 남아팬티            2  20180813   \n",
       "\n",
       "         TOT_SESS_HR_V                                              PD_NM  \\\n",
       "3429017           2332  여성 2칼라 끈리본 롱기장티셔츠 (30070-121-407-10) - 206(블루)...   \n",
       "1890750           1139                기본폴라티셔츠(T171YSK901) - GN(그린) / FREE   \n",
       "1437292            851                            아룡남아삼각팬티  MBS3UP04 - 80   \n",
       "3514204            851                          메란스타남아삼각팬티(MCS3UP07) - 60   \n",
       "3966143            851         람보르남아아동삼각팬티(MDS3UP22) - [1049478338]화이트/70   \n",
       "\n",
       "          CLAC3_NM  search_count  sess_sq  tot_page   result  \n",
       "3429017      여성원피스         23500    13090    4990.0  41580.0  \n",
       "1890750  여성스웨터/풀오버          8500    29900    2800.0  41200.0  \n",
       "1437292      유아동팬티         28000     7020    4000.0  39020.0  \n",
       "3514204      유아동팬티         28000     7020    4000.0  39020.0  \n",
       "3966143      유아동내의         28000     7020    4000.0  39020.0  "
      ]
     },
     "execution_count": 20,
     "metadata": {},
     "output_type": "execute_result"
    }
   ],
   "source": [
    "data = data.drop(['CLAC1_NM','CLAC2_NM','PD_ADD_NM'],axis = 1)"
   ]
  },
  {
   "cell_type": "code",
   "execution_count": 21,
   "metadata": {},
   "outputs": [],
   "source": [
    "data = data.drop(['CLNT_ID','SESS_ID','PD_C'],axis=1)"
   ]
  },
  {
   "cell_type": "code",
   "execution_count": 23,
   "metadata": {},
   "outputs": [],
   "source": [
    "girl = data[\"CLNT_GENDER\"] == 2\n",
    "boy = data[\"CLNT_GENDER\"] == 1"
   ]
  },
  {
   "cell_type": "code",
   "execution_count": 52,
   "metadata": {},
   "outputs": [],
   "source": [
    "girl = data[data['KWD_NM'].str.contains(\"여\") | data['CLAC3_NM'].str.contains(\"여\")]\n",
    "Adverse = girl[girl[\"CLNT_GENDER\"] == 1]\n",
    "Consistent = girl[girl[\"CLNT_GENDER\"] == 2]"
   ]
  },
  {
   "cell_type": "code",
   "execution_count": 54,
   "metadata": {},
   "outputs": [],
   "source": [
    "boy = data[data['KWD_NM'].str.contains(\"남\") | data['CLAC3_NM'].str.contains(\"남\")]\n",
    "Adverse = Adverse.append(boy[boy[\"CLNT_GENDER\"] == 2])\n",
    "Consistent = Consistent.append(boy[boy[\"CLNT_GENDER\"] == 1])"
   ]
  },
  {
   "cell_type": "code",
   "execution_count": 56,
   "metadata": {},
   "outputs": [
    {
     "name": "stdout",
     "output_type": "stream",
     "text": [
      "1195884\n",
      "1755039\n",
      "4883794\n"
     ]
    }
   ],
   "source": [
    "print(len(Adverse))\n",
    "print(len(Consistent))\n",
    "print(len(data))"
   ]
  },
  {
   "cell_type": "markdown",
   "metadata": {},
   "source": [
    "# 가설검정\n",
    "\n",
    "This is a two-sided test for the null hypothesis that 2 independent samples have identical average (expected) values. This test assumes that the populations have identical variances by default."
   ]
  },
  {
   "cell_type": "code",
   "execution_count": 60,
   "metadata": {},
   "outputs": [
    {
     "name": "stdout",
     "output_type": "stream",
     "text": [
      "The t-statistic and p-value assuming equal variances is -25.649 and 0.000.\n",
      "The t-statistic and p-value not assuming equal variances is -25.790 and 0.000\n"
     ]
    }
   ],
   "source": [
    "from scipy import stats\n",
    "tTestResult = stats.ttest_ind(Adverse['result'], Consistent['result'])\n",
    "tTestResultDiffVar = stats.ttest_ind(Adverse['result'], Consistent['result'], equal_var=False)\n",
    "\n",
    "print(\"The t-statistic and p-value assuming equal variances is %.3f and %.3f.\" % tTestResult)\n",
    "print(\"The t-statistic and p-value not assuming equal variances is %.3f and %.3f\" % tTestResultDiffVar)"
   ]
  },
  {
   "cell_type": "code",
   "execution_count": null,
   "metadata": {},
   "outputs": [],
   "source": []
  }
 ],
 "metadata": {
  "kernelspec": {
   "display_name": "Python 3",
   "language": "python",
   "name": "python3"
  },
  "language_info": {
   "codemirror_mode": {
    "name": "ipython",
    "version": 3
   },
   "file_extension": ".py",
   "mimetype": "text/x-python",
   "name": "python",
   "nbconvert_exporter": "python",
   "pygments_lexer": "ipython3",
   "version": "3.6.3"
  }
 },
 "nbformat": 4,
 "nbformat_minor": 2
}
